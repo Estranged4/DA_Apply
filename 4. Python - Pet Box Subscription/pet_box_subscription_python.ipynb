{
 "cells": [
  {
   "cell_type": "markdown",
   "id": "897d9d86",
   "metadata": {},
   "source": [
    "# Pet Subscription Box Analysis\n",
    "\n",
    "## About the Company\n",
    "PetMind is a nationwide pet product retailer in the United States. With inflation hitting 41-year\n",
    "highs, the company is planning to reduce the cost of customer retention by improving brand\n",
    "loyalty. \n",
    "\n",
    "### Strategy\n",
    "- The strategy is to launch a monthly pet box subscription. \n",
    "\n",
    "- The marketing team is preparing a list of popular products for the pet box subscription.\n",
    "\n"
   ]
  },
  {
   "cell_type": "markdown",
   "id": "3266585f",
   "metadata": {},
   "source": [
    "## Objective\n",
    "The chief marketing officer wants to know whether the list should only include the products being purchased more than once.\n",
    "\n",
    "### Questions to answer\n",
    "- How many products are being purchased more than once?\n",
    "- Do the products being purchased again have better sales than others?\n",
    "- What products are more likely to be purchased again for different types of pets?"
   ]
  },
  {
   "cell_type": "markdown",
   "id": "fd7dcce0",
   "metadata": {},
   "source": [
    "## Data validation"
   ]
  },
  {
   "cell_type": "markdown",
   "id": "314e83ea",
   "metadata": {},
   "source": [
    "- Load Libraries & Dataset"
   ]
  },
  {
   "cell_type": "code",
   "execution_count": 1,
   "id": "e1493199",
   "metadata": {},
   "outputs": [],
   "source": [
    "import numpy as np\n",
    "import pandas as pd\n",
    "import seaborn as sns\n",
    "import matplotlib.pyplot as plt\n",
    "import matplotlib.ticker as ticker\n",
    "\n",
    "df = pd.read_csv('pet_sales.csv')"
   ]
  },
  {
   "cell_type": "code",
   "execution_count": 2,
   "id": "e4497d7e",
   "metadata": {},
   "outputs": [
    {
     "data": {
      "text/html": [
       "<div>\n",
       "<style scoped>\n",
       "    .dataframe tbody tr th:only-of-type {\n",
       "        vertical-align: middle;\n",
       "    }\n",
       "\n",
       "    .dataframe tbody tr th {\n",
       "        vertical-align: top;\n",
       "    }\n",
       "\n",
       "    .dataframe thead th {\n",
       "        text-align: right;\n",
       "    }\n",
       "</style>\n",
       "<table border=\"1\" class=\"dataframe\">\n",
       "  <thead>\n",
       "    <tr style=\"text-align: right;\">\n",
       "      <th></th>\n",
       "      <th>product_id</th>\n",
       "      <th>product_category</th>\n",
       "      <th>sales</th>\n",
       "      <th>price</th>\n",
       "      <th>vendor_id</th>\n",
       "      <th>pet_size</th>\n",
       "      <th>pet_type</th>\n",
       "      <th>rating</th>\n",
       "      <th>re_buy</th>\n",
       "    </tr>\n",
       "  </thead>\n",
       "  <tbody>\n",
       "    <tr>\n",
       "      <th>0</th>\n",
       "      <td>5040</td>\n",
       "      <td>Equipment</td>\n",
       "      <td>$123,000</td>\n",
       "      <td>94.81</td>\n",
       "      <td>VC_1605</td>\n",
       "      <td>small</td>\n",
       "      <td>fish</td>\n",
       "      <td>7</td>\n",
       "      <td>1</td>\n",
       "    </tr>\n",
       "    <tr>\n",
       "      <th>1</th>\n",
       "      <td>4567</td>\n",
       "      <td>Toys</td>\n",
       "      <td>$61,000</td>\n",
       "      <td>120.95</td>\n",
       "      <td>VC_1132</td>\n",
       "      <td>small</td>\n",
       "      <td>cat</td>\n",
       "      <td>10</td>\n",
       "      <td>0</td>\n",
       "    </tr>\n",
       "    <tr>\n",
       "      <th>2</th>\n",
       "      <td>4237</td>\n",
       "      <td>Toys</td>\n",
       "      <td>$218,000</td>\n",
       "      <td>106.34</td>\n",
       "      <td>VC_802</td>\n",
       "      <td>small</td>\n",
       "      <td>hamster</td>\n",
       "      <td>6</td>\n",
       "      <td>0</td>\n",
       "    </tr>\n",
       "    <tr>\n",
       "      <th>3</th>\n",
       "      <td>4364</td>\n",
       "      <td>Snack</td>\n",
       "      <td>$69,000</td>\n",
       "      <td>241.27</td>\n",
       "      <td>VC_929</td>\n",
       "      <td>large</td>\n",
       "      <td>dog</td>\n",
       "      <td>1</td>\n",
       "      <td>1</td>\n",
       "    </tr>\n",
       "    <tr>\n",
       "      <th>4</th>\n",
       "      <td>4184</td>\n",
       "      <td>Supplements</td>\n",
       "      <td>$138,000</td>\n",
       "      <td>133.68</td>\n",
       "      <td>VC_749</td>\n",
       "      <td>large</td>\n",
       "      <td>dog</td>\n",
       "      <td>10</td>\n",
       "      <td>0</td>\n",
       "    </tr>\n",
       "    <tr>\n",
       "      <th>5</th>\n",
       "      <td>4609</td>\n",
       "      <td>Bedding</td>\n",
       "      <td>$183,000</td>\n",
       "      <td>51.60</td>\n",
       "      <td>VC_1174</td>\n",
       "      <td>large</td>\n",
       "      <td>cat</td>\n",
       "      <td>10</td>\n",
       "      <td>0</td>\n",
       "    </tr>\n",
       "    <tr>\n",
       "      <th>6</th>\n",
       "      <td>4380</td>\n",
       "      <td>Toys</td>\n",
       "      <td>$79,000</td>\n",
       "      <td>175.75</td>\n",
       "      <td>VC_945</td>\n",
       "      <td>extra_small</td>\n",
       "      <td>dog</td>\n",
       "      <td>8</td>\n",
       "      <td>0</td>\n",
       "    </tr>\n",
       "    <tr>\n",
       "      <th>7</th>\n",
       "      <td>4389</td>\n",
       "      <td>Bedding</td>\n",
       "      <td>$205,000</td>\n",
       "      <td>170.01</td>\n",
       "      <td>VC_954</td>\n",
       "      <td>large</td>\n",
       "      <td>cat</td>\n",
       "      <td>9</td>\n",
       "      <td>0</td>\n",
       "    </tr>\n",
       "    <tr>\n",
       "      <th>8</th>\n",
       "      <td>4697</td>\n",
       "      <td>Supplements</td>\n",
       "      <td>$116,000</td>\n",
       "      <td>178.11</td>\n",
       "      <td>VC_1262</td>\n",
       "      <td>small</td>\n",
       "      <td>cat</td>\n",
       "      <td>10</td>\n",
       "      <td>0</td>\n",
       "    </tr>\n",
       "    <tr>\n",
       "      <th>9</th>\n",
       "      <td>4238</td>\n",
       "      <td>Medicine</td>\n",
       "      <td>$141,000</td>\n",
       "      <td>248.07</td>\n",
       "      <td>VC_803</td>\n",
       "      <td>medium</td>\n",
       "      <td>dog</td>\n",
       "      <td>10</td>\n",
       "      <td>1</td>\n",
       "    </tr>\n",
       "  </tbody>\n",
       "</table>\n",
       "</div>"
      ],
      "text/plain": [
       "   product_id product_category     sales  ...  pet_type rating re_buy\n",
       "0        5040        Equipment  $123,000  ...      fish      7      1\n",
       "1        4567             Toys   $61,000  ...       cat     10      0\n",
       "2        4237             Toys  $218,000  ...   hamster      6      0\n",
       "3        4364            Snack   $69,000  ...       dog      1      1\n",
       "4        4184      Supplements  $138,000  ...       dog     10      0\n",
       "5        4609          Bedding  $183,000  ...       cat     10      0\n",
       "6        4380             Toys   $79,000  ...       dog      8      0\n",
       "7        4389          Bedding  $205,000  ...       cat      9      0\n",
       "8        4697      Supplements  $116,000  ...       cat     10      0\n",
       "9        4238         Medicine  $141,000  ...       dog     10      1\n",
       "\n",
       "[10 rows x 9 columns]"
      ]
     },
     "execution_count": 2,
     "metadata": {},
     "output_type": "execute_result"
    }
   ],
   "source": [
    "# Print a few lines of data\n",
    "df.head(10)"
   ]
  },
  {
   "cell_type": "markdown",
   "id": "b4c5c987",
   "metadata": {},
   "source": [
    "- View data info"
   ]
  },
  {
   "cell_type": "code",
   "execution_count": 3,
   "id": "26ef73af",
   "metadata": {},
   "outputs": [
    {
     "name": "stdout",
     "output_type": "stream",
     "text": [
      "<class 'pandas.core.frame.DataFrame'>\n",
      "RangeIndex: 879 entries, 0 to 878\n",
      "Data columns (total 9 columns):\n",
      " #   Column            Non-Null Count  Dtype  \n",
      "---  ------            --------------  -----  \n",
      " 0   product_id        879 non-null    int64  \n",
      " 1   product_category  879 non-null    object \n",
      " 2   sales             879 non-null    object \n",
      " 3   price             879 non-null    float64\n",
      " 4   vendor_id         879 non-null    object \n",
      " 5   pet_size          879 non-null    object \n",
      " 6   pet_type          879 non-null    object \n",
      " 7   rating            879 non-null    int64  \n",
      " 8   re_buy            879 non-null    int64  \n",
      "dtypes: float64(1), int64(3), object(5)\n",
      "memory usage: 61.9+ KB\n"
     ]
    }
   ],
   "source": [
    "df.info()"
   ]
  },
  {
   "cell_type": "code",
   "execution_count": 4,
   "id": "6915c02a",
   "metadata": {},
   "outputs": [],
   "source": [
    "df.product_id = df.product_id.astype(str)\n"
   ]
  },
  {
   "cell_type": "code",
   "execution_count": 5,
   "id": "0e7faf03",
   "metadata": {},
   "outputs": [
    {
     "data": {
      "text/plain": [
       "product_id          False\n",
       "product_category    False\n",
       "sales               False\n",
       "price               False\n",
       "vendor_id           False\n",
       "pet_size            False\n",
       "pet_type            False\n",
       "rating              False\n",
       "re_buy              False\n",
       "dtype: bool"
      ]
     },
     "execution_count": 5,
     "metadata": {},
     "output_type": "execute_result"
    }
   ],
   "source": [
    "# Check for missing values\n",
    "df.isna().any()"
   ]
  },
  {
   "cell_type": "code",
   "execution_count": 6,
   "id": "46b18834",
   "metadata": {},
   "outputs": [
    {
     "name": "stdout",
     "output_type": "stream",
     "text": [
      "object\n",
      "object\n",
      "object\n",
      "float64\n",
      "object\n",
      "object\n",
      "object\n",
      "int64\n",
      "int64\n"
     ]
    }
   ],
   "source": [
    "def dtypeis(serie):\n",
    "    return df[serie].dtype\n",
    "for serie in df.columns:\n",
    "    print(dtypeis(serie))"
   ]
  },
  {
   "cell_type": "markdown",
   "id": "42383cd2",
   "metadata": {},
   "source": [
    "- Check the validation of columns"
   ]
  },
  {
   "cell_type": "code",
   "execution_count": 7,
   "id": "f9429727",
   "metadata": {},
   "outputs": [
    {
     "name": "stdout",
     "output_type": "stream",
     "text": [
      "False\n",
      "False\n"
     ]
    }
   ],
   "source": [
    "# Check the unique identifier of 'Product ID' & 'Vendor ID'\n",
    "\n",
    "print(\n",
    "      df.product_id.duplicated().any()\n",
    " )\n",
    "print(\n",
    "      df.vendor_id.duplicated().any()\n",
    " )\n"
   ]
  },
  {
   "cell_type": "code",
   "execution_count": 8,
   "id": "d9269d3c",
   "metadata": {},
   "outputs": [
    {
     "data": {
      "text/html": [
       "<div>\n",
       "<style scoped>\n",
       "    .dataframe tbody tr th:only-of-type {\n",
       "        vertical-align: middle;\n",
       "    }\n",
       "\n",
       "    .dataframe tbody tr th {\n",
       "        vertical-align: top;\n",
       "    }\n",
       "\n",
       "    .dataframe thead th {\n",
       "        text-align: right;\n",
       "    }\n",
       "</style>\n",
       "<table border=\"1\" class=\"dataframe\">\n",
       "  <thead>\n",
       "    <tr style=\"text-align: right;\">\n",
       "      <th></th>\n",
       "      <th>product_category</th>\n",
       "      <th>pet_size</th>\n",
       "      <th>pet_type</th>\n",
       "    </tr>\n",
       "  </thead>\n",
       "  <tbody>\n",
       "    <tr>\n",
       "      <th>count</th>\n",
       "      <td>879</td>\n",
       "      <td>879</td>\n",
       "      <td>879</td>\n",
       "    </tr>\n",
       "    <tr>\n",
       "      <th>unique</th>\n",
       "      <td>11</td>\n",
       "      <td>5</td>\n",
       "      <td>6</td>\n",
       "    </tr>\n",
       "    <tr>\n",
       "      <th>top</th>\n",
       "      <td>Equipment</td>\n",
       "      <td>small</td>\n",
       "      <td>cat</td>\n",
       "    </tr>\n",
       "    <tr>\n",
       "      <th>freq</th>\n",
       "      <td>141</td>\n",
       "      <td>280</td>\n",
       "      <td>347</td>\n",
       "    </tr>\n",
       "  </tbody>\n",
       "</table>\n",
       "</div>"
      ],
      "text/plain": [
       "       product_category pet_size pet_type\n",
       "count               879      879      879\n",
       "unique               11        5        6\n",
       "top           Equipment    small      cat\n",
       "freq                141      280      347"
      ]
     },
     "execution_count": 8,
     "metadata": {},
     "output_type": "execute_result"
    }
   ],
   "source": [
    "# Check qualitative variables\n",
    "\n",
    "df[['product_category', 'pet_size', 'pet_type']].describe(include= 'object')"
   ]
  },
  {
   "cell_type": "markdown",
   "id": "a19ad912",
   "metadata": {},
   "source": [
    "There are 11 Product categories, 5 Pet sizes, but 6 Pet type when the designed type is 4"
   ]
  },
  {
   "cell_type": "code",
   "execution_count": 9,
   "id": "d52e13db",
   "metadata": {},
   "outputs": [
    {
     "data": {
      "text/plain": [
       "cat        347\n",
       "dog        347\n",
       "fish        70\n",
       "bird        69\n",
       "hamster     23\n",
       "rabbit      23\n",
       "Name: pet_type, dtype: int64"
      ]
     },
     "execution_count": 9,
     "metadata": {},
     "output_type": "execute_result"
    }
   ],
   "source": [
    "## View pet_type values:\n",
    "\n",
    "df.pet_type.value_counts()"
   ]
  },
  {
   "cell_type": "code",
   "execution_count": 10,
   "id": "b0df9a5f",
   "metadata": {},
   "outputs": [],
   "source": [
    "## Validated pet type are 'cat', 'dog', 'fish', 'bird', so we just keep only these values\n",
    "\n",
    "df = df[df.pet_type.isin(['cat', 'dog', 'fish', 'bird'])]"
   ]
  },
  {
   "cell_type": "code",
   "execution_count": 11,
   "id": "63e429c9",
   "metadata": {},
   "outputs": [],
   "source": [
    "## The sales columns are seires of string type, we need convert into numeric\n",
    "\n",
    "df.sales = df.sales.str.strip('$').str.replace(\",\", \"\").astype('int64')"
   ]
  },
  {
   "cell_type": "code",
   "execution_count": 12,
   "id": "280d4b36",
   "metadata": {},
   "outputs": [
    {
     "data": {
      "text/html": [
       "<div>\n",
       "<style scoped>\n",
       "    .dataframe tbody tr th:only-of-type {\n",
       "        vertical-align: middle;\n",
       "    }\n",
       "\n",
       "    .dataframe tbody tr th {\n",
       "        vertical-align: top;\n",
       "    }\n",
       "\n",
       "    .dataframe thead th {\n",
       "        text-align: right;\n",
       "    }\n",
       "</style>\n",
       "<table border=\"1\" class=\"dataframe\">\n",
       "  <thead>\n",
       "    <tr style=\"text-align: right;\">\n",
       "      <th></th>\n",
       "      <th>sales</th>\n",
       "      <th>price</th>\n",
       "      <th>rating</th>\n",
       "      <th>re_buy</th>\n",
       "    </tr>\n",
       "  </thead>\n",
       "  <tbody>\n",
       "    <tr>\n",
       "      <th>count</th>\n",
       "      <td>833.000000</td>\n",
       "      <td>833.000000</td>\n",
       "      <td>833.000000</td>\n",
       "      <td>833.000000</td>\n",
       "    </tr>\n",
       "    <tr>\n",
       "      <th>mean</th>\n",
       "      <td>116100.840336</td>\n",
       "      <td>127.994802</td>\n",
       "      <td>6.530612</td>\n",
       "      <td>0.468187</td>\n",
       "    </tr>\n",
       "    <tr>\n",
       "      <th>std</th>\n",
       "      <td>66324.790235</td>\n",
       "      <td>72.552580</td>\n",
       "      <td>2.843572</td>\n",
       "      <td>0.499287</td>\n",
       "    </tr>\n",
       "    <tr>\n",
       "      <th>min</th>\n",
       "      <td>3000.000000</td>\n",
       "      <td>0.350000</td>\n",
       "      <td>1.000000</td>\n",
       "      <td>0.000000</td>\n",
       "    </tr>\n",
       "    <tr>\n",
       "      <th>25%</th>\n",
       "      <td>59000.000000</td>\n",
       "      <td>63.300000</td>\n",
       "      <td>5.000000</td>\n",
       "      <td>0.000000</td>\n",
       "    </tr>\n",
       "    <tr>\n",
       "      <th>50%</th>\n",
       "      <td>116000.000000</td>\n",
       "      <td>129.520000</td>\n",
       "      <td>6.000000</td>\n",
       "      <td>0.000000</td>\n",
       "    </tr>\n",
       "    <tr>\n",
       "      <th>75%</th>\n",
       "      <td>177000.000000</td>\n",
       "      <td>189.250000</td>\n",
       "      <td>10.000000</td>\n",
       "      <td>1.000000</td>\n",
       "    </tr>\n",
       "    <tr>\n",
       "      <th>max</th>\n",
       "      <td>230000.000000</td>\n",
       "      <td>252.690000</td>\n",
       "      <td>10.000000</td>\n",
       "      <td>1.000000</td>\n",
       "    </tr>\n",
       "  </tbody>\n",
       "</table>\n",
       "</div>"
      ],
      "text/plain": [
       "               sales       price      rating      re_buy\n",
       "count     833.000000  833.000000  833.000000  833.000000\n",
       "mean   116100.840336  127.994802    6.530612    0.468187\n",
       "std     66324.790235   72.552580    2.843572    0.499287\n",
       "min      3000.000000    0.350000    1.000000    0.000000\n",
       "25%     59000.000000   63.300000    5.000000    0.000000\n",
       "50%    116000.000000  129.520000    6.000000    0.000000\n",
       "75%    177000.000000  189.250000   10.000000    1.000000\n",
       "max    230000.000000  252.690000   10.000000    1.000000"
      ]
     },
     "execution_count": 12,
     "metadata": {},
     "output_type": "execute_result"
    }
   ],
   "source": [
    "## Check all quantitative variables\n",
    "\n",
    "df[['sales', 'price', 'rating', 're_buy']].describe()"
   ]
  },
  {
   "cell_type": "code",
   "execution_count": 13,
   "id": "31b9bcbe",
   "metadata": {},
   "outputs": [
    {
     "data": {
      "text/plain": [
       "0    443\n",
       "1    390\n",
       "Name: re_buy, dtype: int64"
      ]
     },
     "execution_count": 13,
     "metadata": {},
     "output_type": "execute_result"
    }
   ],
   "source": [
    "## The rating is between 1 and 10, match the validation criteria\n",
    "## View re_buy values\n",
    "\n",
    "df.re_buy.value_counts()"
   ]
  },
  {
   "cell_type": "code",
   "execution_count": 14,
   "id": "9025903c",
   "metadata": {},
   "outputs": [
    {
     "name": "stdout",
     "output_type": "stream",
     "text": [
      "<class 'pandas.core.frame.DataFrame'>\n",
      "Int64Index: 833 entries, 0 to 878\n",
      "Data columns (total 9 columns):\n",
      " #   Column            Non-Null Count  Dtype  \n",
      "---  ------            --------------  -----  \n",
      " 0   product_id        833 non-null    object \n",
      " 1   product_category  833 non-null    object \n",
      " 2   sales             833 non-null    int64  \n",
      " 3   price             833 non-null    float64\n",
      " 4   vendor_id         833 non-null    object \n",
      " 5   pet_size          833 non-null    object \n",
      " 6   pet_type          833 non-null    object \n",
      " 7   rating            833 non-null    int64  \n",
      " 8   re_buy            833 non-null    int64  \n",
      "dtypes: float64(1), int64(3), object(5)\n",
      "memory usage: 65.1+ KB\n",
      "None\n",
      "   product_id product_category   sales  ...  pet_type rating re_buy\n",
      "0        5040        Equipment  123000  ...      fish      7      1\n",
      "1        4567             Toys   61000  ...       cat     10      0\n",
      "3        4364            Snack   69000  ...       dog      1      1\n",
      "4        4184      Supplements  138000  ...       dog     10      0\n",
      "5        4609          Bedding  183000  ...       cat     10      0\n",
      "6        4380             Toys   79000  ...       dog      8      0\n",
      "7        4389          Bedding  205000  ...       cat      9      0\n",
      "8        4697      Supplements  116000  ...       cat     10      0\n",
      "9        4238         Medicine  141000  ...       dog     10      1\n",
      "10       4650            Snack  185000  ...       dog     10      1\n",
      "\n",
      "[10 rows x 9 columns]\n"
     ]
    }
   ],
   "source": [
    "## re_buy seems ok\n",
    "## A look at dataset after validating\n",
    "\n",
    "print(\n",
    "    df.info()\n",
    ")\n",
    "\n",
    "print(\n",
    "    df.head(10)\n",
    ")"
   ]
  },
  {
   "cell_type": "markdown",
   "id": "48d10d2b",
   "metadata": {},
   "source": [
    "## Customer Questions"
   ]
  },
  {
   "cell_type": "markdown",
   "id": "cd549796",
   "metadata": {},
   "source": [
    "#### 1. How many products are being purchased more than once?"
   ]
  },
  {
   "cell_type": "code",
   "execution_count": 15,
   "id": "d3beea16",
   "metadata": {},
   "outputs": [
    {
     "name": "stdout",
     "output_type": "stream",
     "text": [
      "product_category\n",
      "Accessory      20\n",
      "Bedding        24\n",
      "Clothes        19\n",
      "Equipment      69\n",
      "Food           37\n",
      "Grooming       17\n",
      "Housing        20\n",
      "Medicine       37\n",
      "Snack          59\n",
      "Supplements    30\n",
      "Toys           58\n",
      "Name: re_buy, dtype: int64\n"
     ]
    },
    {
     "data": {
      "text/plain": [
       "Text(0.5, 1.0, 'No. of products re-bought by category')"
      ]
     },
     "execution_count": 15,
     "metadata": {},
     "output_type": "execute_result"
    },
    {
     "data": {
      "image/png": "[encoded data removed]",
      "text/plain": [
       "<Figure size 432x288 with 1 Axes>"
      ]
     },
     "metadata": {},
     "output_type": "display_data"
    }
   ],
   "source": [
    "## Summarize number of re-bought products by Product category\n",
    "product_rebuy = df.groupby('product_category').re_buy.sum()\n",
    "\n",
    "print(product_rebuy)\n",
    "\n",
    "## Plot values\n",
    "sns.set_theme(style=\"white\", palette=None)\n",
    "product_rebuy.sort_values().plot.barh()\n",
    "plt.title('No. of products re-bought by category')"
   ]
  },
  {
   "cell_type": "markdown",
   "id": "4b51140e",
   "metadata": {},
   "source": [
    "#### !Insight\n",
    "Equipment, Snack, Toys are the most re-bought products with more than 70 of Equipment and more than 60 of Snack & Toys\n",
    "On the opposite, Accessory, Housing & Grooming are the least re-bought products with only 20 products of each category"
   ]
  },
  {
   "cell_type": "markdown",
   "id": "796526c5",
   "metadata": {},
   "source": [
    "#### 2. Do the products being purchased again have better sales than others?"
   ]
  },
  {
   "cell_type": "code",
   "execution_count": 16,
   "id": "df7a8f20",
   "metadata": {},
   "outputs": [
    {
     "name": "stdout",
     "output_type": "stream",
     "text": [
      "re_buy\n",
      "0    $51,125,000.00\n",
      "1    $45,587,000.00\n",
      "Name: sales, dtype: object\n"
     ]
    },
    {
     "data": {
      "image/png": "[encoded data removed]",
      "text/plain": [
       "<Figure size 432x288 with 1 Axes>"
      ]
     },
     "metadata": {},
     "output_type": "display_data"
    }
   ],
   "source": [
    "## Show sum of sales of all products between  re-bought & not re-bought category\n",
    "sales_re_buy = df.pivot_table(  \n",
    "    index= 're_buy',\n",
    "    values= 'sales',\n",
    "    aggfunc=sum    \n",
    ")\n",
    "\n",
    "from babel.numbers import format_currency\n",
    "print(sales_re_buy.sales.apply(lambda x: format_currency(x, currency=\"USD\")))\n",
    "\n",
    "labels = 'not re-bought', 're-bought'\n",
    "\n",
    "def func(pct, allvalues):\n",
    "    return \"{:.2f}%\\n${:,}\".format(pct, allvalues)\n",
    "\n",
    "fig0, ax = plt.subplots()\n",
    "ax.pie(\n",
    "    sales_re_buy.sales, \n",
    "    autopct= '%.2f%%',\n",
    "    labels=labels,\n",
    "    startangle = 90,\n",
    "    counterclock = False\n",
    "    \n",
    ")\n",
    "ax.axis('equal')\n",
    "plt.legend()\n",
    "plt.show()"
   ]
  },
  {
   "cell_type": "code",
   "execution_count": 17,
   "id": "a693387e",
   "metadata": {},
   "outputs": [
    {
     "data": {
      "image/png": "[encoded data removed]",
      "text/plain": [
       "<Figure size 432x288 with 1 Axes>"
      ]
     },
     "metadata": {},
     "output_type": "display_data"
    }
   ],
   "source": [
    "## Plot the graph to show the difference of sales between re-bought & not re-bought category\n",
    "\n",
    "sns.set_palette(\"tab10\")\n",
    "fig1, ax = plt.subplots()\n",
    "fig1.suptitle('Sales between re-bought & not re-bought')\n",
    "\n",
    "category_order =  df.product_category.unique()\n",
    "category_order.sort()\n",
    "sns.barplot(\n",
    "    data= df,\n",
    "    x = 'product_category', y='sales',\n",
    "    estimator=np.sum, \n",
    "    hue='re_buy',\n",
    "    order= category_order,\n",
    "    ax=ax\n",
    "    )\n",
    "\n",
    "ax.set_xlabel('Product category')\n",
    "plt.xticks(rotation=45)\n",
    "ax.get_yaxis().set_major_formatter(\n",
    "        ticker.FuncFormatter(lambda x, p: format(int(x), ','))\n",
    ")\n",
    "ax.set_ylabel('Sales')\n",
    "\n",
    "plt.show()"
   ]
  },
  {
   "cell_type": "markdown",
   "id": "83aa43a0",
   "metadata": {},
   "source": [
    "#### !Insight\n",
    "Although total Number of sales in re-bought product is a slightly more than not re-bought, the different in sales in each categories are various different"
   ]
  },
  {
   "cell_type": "markdown",
   "id": "752a16fe",
   "metadata": {},
   "source": [
    "#### 3. What products are more likely to be purchased again for different types of pets?"
   ]
  },
  {
   "cell_type": "code",
   "execution_count": 18,
   "id": "e8134b37",
   "metadata": {},
   "outputs": [
    {
     "data": {
      "image/png": "[encoded data removed]",
      "text/plain": [
       "<Figure size 432x288 with 2 Axes>"
      ]
     },
     "metadata": {},
     "output_type": "display_data"
    }
   ],
   "source": [
    "## Draw heatmap to show how many products were re-purchased by Product category & Pet type\n",
    "\n",
    "df_rebuy_true = df[df.re_buy == 1][['product_id', 'product_category', 'pet_type']]\n",
    "\n",
    "pivot_rebuy_true = df_rebuy_true.pivot_table(\n",
    "    index='product_category',\n",
    "    columns='pet_type',\n",
    "    values='product_id',\n",
    "    aggfunc='count'\n",
    ")\n",
    "\n",
    "fig2, ax = plt.subplots()\n",
    "fig2.suptitle('No. of products were re-purchased by Product category & Pet type')\n",
    "sns.heatmap(pivot_rebuy_true, annot=True,  cmap=\"crest\")\n",
    "ax.set_xlabel('Pet type')\n",
    "ax.set_ylabel('Product category')\n",
    "plt.show()"
   ]
  },
  {
   "cell_type": "markdown",
   "id": "b701faa8",
   "metadata": {},
   "source": [
    "#### !Insight\n",
    "As a result of high sales at Equipment, Snack & Toys, these category also had a big amount of products were re-purchased. The most re-purchased Pet type are cat & dog"
   ]
  },
  {
   "cell_type": "code",
   "execution_count": 19,
   "id": "83561cd1",
   "metadata": {},
   "outputs": [
    {
     "data": {
      "image/png": "[encoded data removed]",
      "text/plain": [
       "<Figure size 720x360 with 4 Axes>"
      ]
     },
     "metadata": {},
     "output_type": "display_data"
    }
   ],
   "source": [
    "## Draw an additional heatmap to show No.of products were re-purchased vs. not re-purchased\n",
    "## by Product were purchased category & Pet type\n",
    "\n",
    "pivot_rebuy_all = df.pivot_table(\n",
    "    index='product_category',\n",
    "    columns='pet_type',\n",
    "    values='product_id',\n",
    "    aggfunc='count'\n",
    ")\n",
    "\n",
    "pivot_rebuy_rate = pivot_rebuy_true/pivot_rebuy_all\n",
    "\n",
    "\n",
    "fig3, (ax0, ax1) = plt.subplots(nrows=1, ncols=2,figsize=(10,5), sharey=(True))\n",
    "fig3.suptitle('No.of products were re-purchased vs. all products')\n",
    "fig3.supxlabel('Pet type')\n",
    "fig3.supylabel('Product category')\n",
    "\n",
    "sns.heatmap(pivot_rebuy_true, annot=True,  cmap=\"crest\", ax=ax0)\n",
    "ax0.set(xlabel=None, ylabel= None)\n",
    "ax0.set_title('No.of re-purchased')\n",
    "\n",
    "sns.heatmap(pivot_rebuy_rate, annot=True,  cmap=\"crest\", ax=ax1)\n",
    "ax1.set(xlabel=None, ylabel= None)\n",
    "ax1.set_title('Rate of re-purchased on all products')\n",
    "\n",
    "plt.show()"
   ]
  },
  {
   "cell_type": "markdown",
   "id": "05eb3dde",
   "metadata": {},
   "source": [
    "#### !Insight\n",
    "Based on all the product, not high sales mean high re-purchased. The Equipment, Snack & Toys category only had the average rate of re-purchase product. \n",
    "\n",
    "All the Fish-Housing products are re-purchased, means customers really liked them\n",
    "\n",
    "Bedding-Dog products are the second-hightest, and the last product kind had re-purchased rate higher than 0.7. These are another potential products which the company can focus on."
   ]
  },
  {
   "cell_type": "markdown",
   "id": "14c2172a",
   "metadata": {},
   "source": [
    "### Conclusion\n",
    "The Equipment, Snack, Toys, Medicine, Food were the the most popular products, these lead to high re-purchased rate, but some others product category which had high purchased rate didn't have significant sales volume.\n",
    "\n",
    "The sales between re-purchased & not re-purchased products are not so significant. Pet acessories in the subscription box added could increase the sales of accesories while making the box more interesting and variant. We can not entirely rely upon products which are being purchased more than once.\n",
    "\n",
    "Besides, the rating of product should also be set as a metric to consider. Some other products needed in daily life should be added too in the subscription box."
   ]
  }
 ],
 "metadata": {
  "kernelspec": {
   "display_name": "Python 3 (Spyder)",
   "language": "python3",
   "name": "python3"
  },
  "language_info": {
   "codemirror_mode": {
    "name": "ipython",
    "version": 3
   },
   "file_extension": ".py",
   "mimetype": "text/x-python",
   "name": "python",
   "nbconvert_exporter": "python",
   "pygments_lexer": "ipython3",
   "version": "3.10.6"
  }
 },
 "nbformat": 4,
 "nbformat_minor": 5
}
