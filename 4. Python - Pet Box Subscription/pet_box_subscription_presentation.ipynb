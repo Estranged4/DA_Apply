{
 "cells": [
  {
   "cell_type": "markdown",
   "id": "a5b189cf",
   "metadata": {
    "tags": []
   },
   "source": [
    "# Data Analyst Associate Case Study: Pet Box Subscription\n",
    "\n"
   ]
  },
  {
   "cell_type": "markdown",
   "id": "ffb2f581",
   "metadata": {
    "tags": []
   },
   "source": [
    "## Data Validation\n",
    "Describe the validation tasks you performed and what you found. Have you made any changes to the data to enable further analysis? Remember to describe what you did for every column in the data. \n",
    "\n",
    "The original data has 879 rows and 9 columns. All the column data types are identified and there is no missing value in the data, so I keep going to check the data if they match the criteria in the data dictionary.\n",
    "- There were 879 Product ID and 879 Vendor ID values are unique, matched the criteria, but Product ID value need to change to string data type, so I changed it\n",
    "- There were 11 unique Product Category and 5 unique Pet Size, as expected\n",
    "- There were 6 unique Pet Type: \"cat\", \"dog\", \"fish\", \"bird\", \"hamster\", \"rabbit\". The designed product did not have \"hamster\" and \"rabbit\" types, so I removed rows that had their pet types, the data had 833 rows remaining\n",
    "- The Sale value were in the currency string format, so I remove \"$\" and \",\" characters and changed them into integer data type\n",
    "- Sale and Price data did not have outlier or suspected values\n",
    "- Rating values ranged from 1 to 10, so all were within the range expected\n",
    "- The Rebuy value contained only 1 or 0 values, as expected, I also created an additional column named rebuy_category with Yes for re_buy = 1 and No for re_buy = 0 to present them more easily"
   ]
  },
  {
   "cell_type": "markdown",
   "id": "7943e6f3",
   "metadata": {
    "tags": []
   },
   "source": [
    "## Data Discovery and Visualization\n",
    "Describe what you found in the analysis and how the visualizations answer the customer questions in the project brief. In your description you should:\n",
    "- Include at least two different data visualizations to demonstrate the characteristics of variables\n",
    "- Include at least one data visualization to demonstrate the relationship between two or more variables\n",
    "- Describe how your analysis has answered the business questions in the project brief\n",
    "\n",
    "#### 1. How many products are being purchased more than once?\n",
    "\n",
    "![Q1a.png](Graphs/Q1a.png)\n",
    "\n",
    "There are 390 products which are being purchased more than one, take 47% - almost half of all the products.\n",
    "\n",
    "If we deep dive more by product category, we will have:\n",
    "\n",
    "![Q1b.png](Graphs/Q1b.png)\n",
    "\n",
    "Equipment, Toys and Snack are top 3 most purchased products, they can also be the company's main products. But when Equipment has the product being and not being purchased more than one at the same amount, Toys and Snack have the rebought items slightly less than non-rebought items.\n",
    "\n",
    "#### 2. Do the products being purchased again have better sales than others?\n",
    "\n",
    "![Q2a.png](Graphs/Q2a.png)\n",
    "\n",
    "Both sum of sales and sale distributions are not so different between rebought and non-rebought items, rebought items has even less sales than non-rebought items, and their market share are at the same proportion with number of products being purchased.\n",
    "\n",
    "If we deep dive more by product category, we will have:\n",
    "\n",
    "![Q2b.png](Graphs/Q2b.png)\n",
    "\n",
    "As the same as the number of products being purchased, Equipment, Toy and Snack are still top 3 most sales, with Equipment seems has the same sales between rebought and non-rebought items, when Toys and Snack have the rebought sales less than non-rebought sales.\n",
    " \n",
    "#### 3. What products are more likely to be purchased again for different types of pets?\n",
    "\n",
    "![Q3a.png](Graphs/Q3a.png)\n",
    "\n",
    "Cat and Dog Pet types are the most likely to be purchased again.\n",
    "But if we not comparing number of rebought products, but by proportion of rebought on all the products, so the best re-bought items are housing - fish items with 100% regbought, then bedding - dog with 74%. All the rest have the buyback rate less than 60%\n",
    "\n",
    "\n",
    "### Conclusion\n",
    "The Equipment, Snack, Toys, Medicine, Food were the the most popular products, these lead to high re-purchased rate, but some others product category which had high purchased rate didn't have significant sales volume.\n",
    "\n",
    "The sales between re-purchased & not re-purchased products are not so significant. Pet accessories in the subscription box added could increase the sales of accessories while making the box more interesting and variant. We can not entirely rely upon products which are being purchased more than once.\n",
    "\n",
    "Besides, the rating of product should also be set as a metric to consider. Some other products needed in daily life should be added too in the subscription box."
   ]
  }
 ],
 "metadata": {
  "colab": {
   "name": "Welcome to DataCamp Workspaces.ipynb",
   "provenance": []
  },
  "kernelspec": {
   "display_name": "Python 3 (Spyder)",
   "language": "python3",
   "name": "python3"
  },
  "language_info": {
   "codemirror_mode": {
    "name": "ipython",
    "version": 3
   },
   "file_extension": ".py",
   "mimetype": "text/x-python",
   "name": "python",
   "nbconvert_exporter": "python",
   "pygments_lexer": "ipython3",
   "version": "3.10.6"
  }
 },
 "nbformat": 4,
 "nbformat_minor": 5
}
